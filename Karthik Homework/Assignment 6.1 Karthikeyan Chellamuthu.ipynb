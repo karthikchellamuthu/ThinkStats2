{
 "cells": [
  {
   "cell_type": "code",
   "execution_count": 1,
   "metadata": {},
   "outputs": [
    {
     "data": {
      "text/plain": [
       "'\\n\\nKarthikeyan Chellamuthu\\n\\n6-1 (The distribution of income is famously skewed to the right. In this exercise, we’ll measure how strong\\nthat skew is…)\\n'"
      ]
     },
     "execution_count": 1,
     "metadata": {},
     "output_type": "execute_result"
    }
   ],
   "source": [
    "\"\"\"\n",
    "\n",
    "Karthikeyan Chellamuthu\n",
    "\n",
    "6-1 (The distribution of income is famously skewed to the right. In this exercise, we’ll measure how strong\n",
    "that skew is…)\n",
    "\"\"\""
   ]
  },
  {
   "cell_type": "code",
   "execution_count": 2,
   "metadata": {},
   "outputs": [],
   "source": [
    "from __future__ import print_function\n",
    "\n",
    "import numpy as np\n",
    "\n",
    "import density\n",
    "import hinc\n",
    "import thinkplot\n",
    "import thinkstats2"
   ]
  },
  {
   "cell_type": "code",
   "execution_count": 6,
   "metadata": {},
   "outputs": [],
   "source": [
    "def InterpolateSample(df, log_upper=6.0):\n",
    "    \"\"\"Makes a sample of log10 household income.\n",
    "\n",
    "    Assumes that log10 income is uniform in each range.\n",
    "\n",
    "    df: DataFrame with columns income and freq\n",
    "    log_upper: log10 of the assumed upper bound for the highest range\n",
    "\n",
    "    returns: NumPy array of log10 household income\n",
    "    \"\"\"\n",
    "    # compute the log10 of the upper bound for each range\n",
    "    df['log_upper'] = np.log10(df.income)\n",
    "\n",
    "    # get the lower bounds by shifting the upper bound and filling in\n",
    "    # the first element\n",
    "    df['log_lower'] = df.log_upper.shift(1)\n",
    "    df.log_lower[0] = 3.0\n",
    "\n",
    "    # plug in a value for the unknown upper bound of the highest range\n",
    "    df.log_upper[41] = log_upper\n",
    "\n",
    "    # use the freq column to generate the right number of values in\n",
    "    # each range\n",
    "    arrays = []\n",
    "    for _, row in df.iterrows():\n",
    "        vals = np.linspace(row.log_lower, row.log_upper, row.freq)\n",
    "        arrays.append(vals)\n",
    "\n",
    "    # collect the arrays into a single sample\n",
    "    log_sample = np.concatenate(arrays)\n",
    "    return log_sample\n",
    "\n",
    "def RawMoment(xs, k):\n",
    "    return sum(x**k for x in xs) / len(xs)\n",
    "\n",
    "def Mean(xs):\n",
    "    return RawMoment(xs, 1)\n",
    "\n",
    "def CentralMoment(xs, k):\n",
    "    mean = RawMoment(xs, 1)\n",
    "    return sum((x - mean)**k for x in xs) / len(xs)\n",
    "\n",
    "def StandardizedMoment(xs, k):\n",
    "    var = CentralMoment(xs, 2)\n",
    "    std = np.sqrt(var)\n",
    "    return CentralMoment(xs, k) / std**k\n",
    "\n",
    "def Skewness(xs):\n",
    "    return StandardizedMoment(xs, 3)\n",
    "\n",
    "def Median(xs):\n",
    "    cdf = thinkstats2.Cdf(xs)\n",
    "    return cdf.Value(0.5)\n",
    "\n",
    "def PearsonMedianSkewness(xs):\n",
    "    median = Median(xs)\n",
    "    mean = RawMoment(xs, 1)\n",
    "    var = CentralMoment(xs, 2)\n",
    "    std = np.sqrt(var)\n",
    "    gp = 3 * (mean - median) / std\n",
    "    return gp"
   ]
  },
  {
   "cell_type": "code",
   "execution_count": 13,
   "metadata": {
    "scrolled": false
   },
   "outputs": [
    {
     "name": "stderr",
     "output_type": "stream",
     "text": [
      "C:\\Users\\oneor\\anaconda3\\lib\\site-packages\\ipykernel_launcher.py:17: SettingWithCopyWarning: \n",
      "A value is trying to be set on a copy of a slice from a DataFrame\n",
      "\n",
      "See the caveats in the documentation: https://pandas.pydata.org/pandas-docs/stable/user_guide/indexing.html#returning-a-view-versus-a-copy\n",
      "C:\\Users\\oneor\\anaconda3\\lib\\site-packages\\ipykernel_launcher.py:20: SettingWithCopyWarning: \n",
      "A value is trying to be set on a copy of a slice from a DataFrame\n",
      "\n",
      "See the caveats in the documentation: https://pandas.pydata.org/pandas-docs/stable/user_guide/indexing.html#returning-a-view-versus-a-copy\n"
     ]
    },
    {
     "data": {
      "image/png": "[encoded data removed]",
      "text/plain": [
       "<Figure size 432x288 with 1 Axes>"
      ]
     },
     "metadata": {
      "needs_background": "light"
     },
     "output_type": "display_data"
    },
    {
     "name": "stdout",
     "output_type": "stream",
     "text": [
      "Mean 74278.70753118733\n",
      "Median 51226.45447894046\n",
      "Skewness 4.949920244429583\n",
      "Pearson Skewness 0.7361258019141782\n",
      "Fraction of household taxable income below the mean 0.660005879566872\n"
     ]
    },
    {
     "data": {
      "text/plain": [
       "<Figure size 576x432 with 0 Axes>"
      ]
     },
     "metadata": {},
     "output_type": "display_data"
    }
   ],
   "source": [
    "def main():\n",
    "    df = hinc.ReadData()\n",
    "    log_sample = InterpolateSample(df, log_upper=6.0)\n",
    "\n",
    "    log_cdf = thinkstats2.Cdf(log_sample)\n",
    "    thinkplot.Cdf(log_cdf)\n",
    "    thinkplot.Show(xlabel='household income',\n",
    "                   ylabel='CDF')\n",
    "    \n",
    "    sample = np.power(10, log_sample)\n",
    "\n",
    "# Mean\n",
    "    print(\"Mean\", Mean(sample))\n",
    "    \n",
    "# Median\n",
    "    print(\"Median\", Median(sample))\n",
    "    \n",
    "# Skewness\n",
    "    print(\"Skewness\", Skewness(sample))\n",
    "    \n",
    "# Pearson Skewness\n",
    "    print(\"Pearson Skewness\", PearsonMedianSkewness(sample))\n",
    "    \n",
    "# What fraction of households reports a taxable income below the mean?\n",
    "    cdf = thinkstats2.Cdf(sample)\n",
    "    print(\"Fraction of household taxable income below the mean\", cdf[Mean(sample)])\n",
    "\n",
    "if __name__ == \"__main__\":\n",
    "    main()"
   ]
  },
  {
   "cell_type": "code",
   "execution_count": 14,
   "metadata": {},
   "outputs": [
    {
     "data": {
      "text/plain": [
       "'\\nHow do the results depend on the assumed upper bound?\\n\\nWith higer upper bound, moment-based skewness increases whereas Pearson skewness decreases. Increasing the upper bound\\nhas modest effect on mean and strongest effect on standard deviation. \\n'"
      ]
     },
     "execution_count": 14,
     "metadata": {},
     "output_type": "execute_result"
    }
   ],
   "source": [
    "\"\"\"\n",
    "How do the results depend on the assumed upper bound?\n",
    "\n",
    "With higer upper bound, moment-based skewness increases whereas Pearson skewness decreases. Increasing the upper bound\n",
    "has modest effect on mean and strongest effect on standard deviation. \n",
    "\"\"\"\n"
   ]
  }
 ],
 "metadata": {
  "kernelspec": {
   "display_name": "Python 3 (ipykernel)",
   "language": "python",
   "name": "python3"
  },
  "language_info": {
   "codemirror_mode": {
    "name": "ipython",
    "version": 3
   },
   "file_extension": ".py",
   "mimetype": "text/x-python",
   "name": "python",
   "nbconvert_exporter": "python",
   "pygments_lexer": "ipython3",
   "version": "3.9.7"
  }
 },
 "nbformat": 4,
 "nbformat_minor": 4
}
